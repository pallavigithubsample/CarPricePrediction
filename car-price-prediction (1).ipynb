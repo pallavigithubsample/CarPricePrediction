{
 "cells": [
  {
   "cell_type": "code",
   "execution_count": 4,
   "id": "93451941",
   "metadata": {
    "_cell_guid": "b1076dfc-b9ad-4769-8c92-a6c4dae69d19",
    "_uuid": "8f2839f25d086af736a60e9eeb907d3b93b6e0e5",
    "id": "93451941",
    "papermill": {
     "duration": 1.625073,
     "end_time": "2022-07-11T16:04:36.070856",
     "exception": false,
     "start_time": "2022-07-11T16:04:34.445783",
     "status": "completed"
    },
    "tags": []
   },
   "outputs": [],
   "source": [
    "# This Python 3 environment comes with many helpful analytics libraries installed\n",
    "# It is defined by the kaggle/python Docker image: https://github.com/kaggle/docker-python\n",
    "# For example, here's several helpful packages to load\n",
    "\n",
    "import numpy as np # linear algebra\n",
    "import pandas as pd # data processing, CSV file I/O (e.g. pd.read_csv)\n",
    "import seaborn as sns\n",
    "import matplotlib.pyplot as plt\n",
    "from sklearn.preprocessing import LabelEncoder\n",
    "from sklearn.model_selection import train_test_split\n",
    "from sklearn.linear_model import LinearRegression\n",
    "from sklearn.metrics import ConfusionMatrixDisplay\n",
    "# Input data files are available in the read-only \"../input/\" directory\n",
    "# For example, running this (by clicking run or pressing Shift+Enter) will list all files under the input directory\n",
    "\n",
    "\n",
    "\n",
    "# You can write up to 20GB to the current directory (/kaggle/working/) that gets preserved as output when you create a version using \"Save & Run All\" \n",
    "# You can also write temporary files to /kaggle/temp/, but they won't be saved outside of the current session"
   ]
  },
  {
   "cell_type": "code",
   "execution_count": 5,
   "id": "a3aa6a66",
   "metadata": {
    "colab": {
     "base_uri": "https://localhost:8080/",
     "height": 635
    },
    "executionInfo": {
     "elapsed": 432,
     "status": "ok",
     "timestamp": 1658846655472,
     "user": {
      "displayName": "pallavi panibhate",
      "userId": "11059935446571644621"
     },
     "user_tz": -330
    },
    "id": "a3aa6a66",
    "outputId": "2848f8f7-34d7-4397-f1f7-bae50d94ca35",
    "papermill": {
     "duration": 0.151963,
     "end_time": "2022-07-11T16:04:36.232395",
     "exception": false,
     "start_time": "2022-07-11T16:04:36.080432",
     "status": "completed"
    },
    "tags": []
   },
   "outputs": [
    {
     "data": {
      "text/html": [
       "<div>\n",
       "<style scoped>\n",
       "    .dataframe tbody tr th:only-of-type {\n",
       "        vertical-align: middle;\n",
       "    }\n",
       "\n",
       "    .dataframe tbody tr th {\n",
       "        vertical-align: top;\n",
       "    }\n",
       "\n",
       "    .dataframe thead th {\n",
       "        text-align: right;\n",
       "    }\n",
       "</style>\n",
       "<table border=\"1\" class=\"dataframe\">\n",
       "  <thead>\n",
       "    <tr style=\"text-align: right;\">\n",
       "      <th></th>\n",
       "      <th>ID</th>\n",
       "      <th>Price</th>\n",
       "      <th>Levy</th>\n",
       "      <th>Manufacturer</th>\n",
       "      <th>Model</th>\n",
       "      <th>Prod. year</th>\n",
       "      <th>Category</th>\n",
       "      <th>Leather interior</th>\n",
       "      <th>Fuel type</th>\n",
       "      <th>Engine volume</th>\n",
       "      <th>Mileage</th>\n",
       "      <th>Cylinders</th>\n",
       "      <th>Gear box type</th>\n",
       "      <th>Drive wheels</th>\n",
       "      <th>Doors</th>\n",
       "      <th>Wheel</th>\n",
       "      <th>Color</th>\n",
       "      <th>Airbags</th>\n",
       "    </tr>\n",
       "  </thead>\n",
       "  <tbody>\n",
       "    <tr>\n",
       "      <th>2060</th>\n",
       "      <td>45772844</td>\n",
       "      <td>706</td>\n",
       "      <td>645</td>\n",
       "      <td>LEXUS</td>\n",
       "      <td>CT 200h</td>\n",
       "      <td>2011</td>\n",
       "      <td>Hatchback</td>\n",
       "      <td>Yes</td>\n",
       "      <td>Hybrid</td>\n",
       "      <td>1.8</td>\n",
       "      <td>116869 km</td>\n",
       "      <td>4.0</td>\n",
       "      <td>Automatic</td>\n",
       "      <td>Front</td>\n",
       "      <td>04-May</td>\n",
       "      <td>Left wheel</td>\n",
       "      <td>Black</td>\n",
       "      <td>0</td>\n",
       "    </tr>\n",
       "    <tr>\n",
       "      <th>17657</th>\n",
       "      <td>45732642</td>\n",
       "      <td>20344</td>\n",
       "      <td>891</td>\n",
       "      <td>HYUNDAI</td>\n",
       "      <td>Sonata</td>\n",
       "      <td>2016</td>\n",
       "      <td>Sedan</td>\n",
       "      <td>Yes</td>\n",
       "      <td>Petrol</td>\n",
       "      <td>2</td>\n",
       "      <td>44608 km</td>\n",
       "      <td>4.0</td>\n",
       "      <td>Automatic</td>\n",
       "      <td>Front</td>\n",
       "      <td>04-May</td>\n",
       "      <td>Left wheel</td>\n",
       "      <td>White</td>\n",
       "      <td>4</td>\n",
       "    </tr>\n",
       "    <tr>\n",
       "      <th>10561</th>\n",
       "      <td>45797180</td>\n",
       "      <td>26017</td>\n",
       "      <td>831</td>\n",
       "      <td>HYUNDAI</td>\n",
       "      <td>Elantra</td>\n",
       "      <td>2017</td>\n",
       "      <td>Sedan</td>\n",
       "      <td>Yes</td>\n",
       "      <td>Petrol</td>\n",
       "      <td>1.6</td>\n",
       "      <td>107220 km</td>\n",
       "      <td>4.0</td>\n",
       "      <td>Automatic</td>\n",
       "      <td>Front</td>\n",
       "      <td>04-May</td>\n",
       "      <td>Left wheel</td>\n",
       "      <td>White</td>\n",
       "      <td>4</td>\n",
       "    </tr>\n",
       "    <tr>\n",
       "      <th>8922</th>\n",
       "      <td>45813742</td>\n",
       "      <td>15210</td>\n",
       "      <td>463</td>\n",
       "      <td>TOYOTA</td>\n",
       "      <td>Prius</td>\n",
       "      <td>2018</td>\n",
       "      <td>Sedan</td>\n",
       "      <td>Yes</td>\n",
       "      <td>Hybrid</td>\n",
       "      <td>1.8</td>\n",
       "      <td>12416 km</td>\n",
       "      <td>4.0</td>\n",
       "      <td>Automatic</td>\n",
       "      <td>Front</td>\n",
       "      <td>04-May</td>\n",
       "      <td>Left wheel</td>\n",
       "      <td>White</td>\n",
       "      <td>12</td>\n",
       "    </tr>\n",
       "    <tr>\n",
       "      <th>3086</th>\n",
       "      <td>45647003</td>\n",
       "      <td>84675</td>\n",
       "      <td>-</td>\n",
       "      <td>TOYOTA</td>\n",
       "      <td>Land Cruiser Prado</td>\n",
       "      <td>2014</td>\n",
       "      <td>Jeep</td>\n",
       "      <td>Yes</td>\n",
       "      <td>Diesel</td>\n",
       "      <td>3.0 Turbo</td>\n",
       "      <td>137000 km</td>\n",
       "      <td>6.0</td>\n",
       "      <td>Tiptronic</td>\n",
       "      <td>4x4</td>\n",
       "      <td>&gt;5</td>\n",
       "      <td>Left wheel</td>\n",
       "      <td>Black</td>\n",
       "      <td>12</td>\n",
       "    </tr>\n",
       "    <tr>\n",
       "      <th>15562</th>\n",
       "      <td>45813189</td>\n",
       "      <td>4704</td>\n",
       "      <td>382</td>\n",
       "      <td>FORD</td>\n",
       "      <td>Fusion</td>\n",
       "      <td>2015</td>\n",
       "      <td>Sedan</td>\n",
       "      <td>Yes</td>\n",
       "      <td>Hybrid</td>\n",
       "      <td>2</td>\n",
       "      <td>148709 km</td>\n",
       "      <td>4.0</td>\n",
       "      <td>Automatic</td>\n",
       "      <td>Front</td>\n",
       "      <td>04-May</td>\n",
       "      <td>Left wheel</td>\n",
       "      <td>Red</td>\n",
       "      <td>12</td>\n",
       "    </tr>\n",
       "    <tr>\n",
       "      <th>5583</th>\n",
       "      <td>45728756</td>\n",
       "      <td>32035</td>\n",
       "      <td>707</td>\n",
       "      <td>SSANGYONG</td>\n",
       "      <td>REXTON</td>\n",
       "      <td>2011</td>\n",
       "      <td>Jeep</td>\n",
       "      <td>Yes</td>\n",
       "      <td>Diesel</td>\n",
       "      <td>2</td>\n",
       "      <td>53323 km</td>\n",
       "      <td>4.0</td>\n",
       "      <td>Automatic</td>\n",
       "      <td>Front</td>\n",
       "      <td>04-May</td>\n",
       "      <td>Left wheel</td>\n",
       "      <td>Black</td>\n",
       "      <td>4</td>\n",
       "    </tr>\n",
       "    <tr>\n",
       "      <th>16072</th>\n",
       "      <td>45769826</td>\n",
       "      <td>1490</td>\n",
       "      <td>1360</td>\n",
       "      <td>LEXUS</td>\n",
       "      <td>GX 470</td>\n",
       "      <td>2013</td>\n",
       "      <td>Jeep</td>\n",
       "      <td>Yes</td>\n",
       "      <td>Petrol</td>\n",
       "      <td>4.6</td>\n",
       "      <td>154115 km</td>\n",
       "      <td>8.0</td>\n",
       "      <td>Automatic</td>\n",
       "      <td>4x4</td>\n",
       "      <td>04-May</td>\n",
       "      <td>Left wheel</td>\n",
       "      <td>Black</td>\n",
       "      <td>0</td>\n",
       "    </tr>\n",
       "    <tr>\n",
       "      <th>15218</th>\n",
       "      <td>45742077</td>\n",
       "      <td>21639</td>\n",
       "      <td>751</td>\n",
       "      <td>KIA</td>\n",
       "      <td>Optima hybrid</td>\n",
       "      <td>2013</td>\n",
       "      <td>Sedan</td>\n",
       "      <td>Yes</td>\n",
       "      <td>Hybrid</td>\n",
       "      <td>2.4</td>\n",
       "      <td>89000 km</td>\n",
       "      <td>4.0</td>\n",
       "      <td>Tiptronic</td>\n",
       "      <td>Front</td>\n",
       "      <td>04-May</td>\n",
       "      <td>Left wheel</td>\n",
       "      <td>White</td>\n",
       "      <td>12</td>\n",
       "    </tr>\n",
       "    <tr>\n",
       "      <th>10920</th>\n",
       "      <td>45809192</td>\n",
       "      <td>41400</td>\n",
       "      <td>833</td>\n",
       "      <td>CHEVROLET</td>\n",
       "      <td>Captiva</td>\n",
       "      <td>2015</td>\n",
       "      <td>Jeep</td>\n",
       "      <td>Yes</td>\n",
       "      <td>Diesel</td>\n",
       "      <td>2.2</td>\n",
       "      <td>70003 km</td>\n",
       "      <td>4.0</td>\n",
       "      <td>Automatic</td>\n",
       "      <td>Front</td>\n",
       "      <td>04-May</td>\n",
       "      <td>Left wheel</td>\n",
       "      <td>Grey</td>\n",
       "      <td>4</td>\n",
       "    </tr>\n",
       "  </tbody>\n",
       "</table>\n",
       "</div>"
      ],
      "text/plain": [
       "             ID  Price  Levy Manufacturer               Model  Prod. year  \\\n",
       "2060   45772844    706   645        LEXUS             CT 200h        2011   \n",
       "17657  45732642  20344   891      HYUNDAI              Sonata        2016   \n",
       "10561  45797180  26017   831      HYUNDAI             Elantra        2017   \n",
       "8922   45813742  15210   463       TOYOTA               Prius        2018   \n",
       "3086   45647003  84675     -       TOYOTA  Land Cruiser Prado        2014   \n",
       "15562  45813189   4704   382         FORD              Fusion        2015   \n",
       "5583   45728756  32035   707    SSANGYONG              REXTON        2011   \n",
       "16072  45769826   1490  1360        LEXUS              GX 470        2013   \n",
       "15218  45742077  21639   751          KIA       Optima hybrid        2013   \n",
       "10920  45809192  41400   833    CHEVROLET             Captiva        2015   \n",
       "\n",
       "        Category Leather interior Fuel type Engine volume    Mileage  \\\n",
       "2060   Hatchback              Yes    Hybrid           1.8  116869 km   \n",
       "17657      Sedan              Yes    Petrol             2   44608 km   \n",
       "10561      Sedan              Yes    Petrol           1.6  107220 km   \n",
       "8922       Sedan              Yes    Hybrid           1.8   12416 km   \n",
       "3086        Jeep              Yes    Diesel     3.0 Turbo  137000 km   \n",
       "15562      Sedan              Yes    Hybrid             2  148709 km   \n",
       "5583        Jeep              Yes    Diesel             2   53323 km   \n",
       "16072       Jeep              Yes    Petrol           4.6  154115 km   \n",
       "15218      Sedan              Yes    Hybrid           2.4   89000 km   \n",
       "10920       Jeep              Yes    Diesel           2.2   70003 km   \n",
       "\n",
       "       Cylinders Gear box type Drive wheels   Doors       Wheel  Color  \\\n",
       "2060         4.0     Automatic        Front  04-May  Left wheel  Black   \n",
       "17657        4.0     Automatic        Front  04-May  Left wheel  White   \n",
       "10561        4.0     Automatic        Front  04-May  Left wheel  White   \n",
       "8922         4.0     Automatic        Front  04-May  Left wheel  White   \n",
       "3086         6.0     Tiptronic          4x4      >5  Left wheel  Black   \n",
       "15562        4.0     Automatic        Front  04-May  Left wheel    Red   \n",
       "5583         4.0     Automatic        Front  04-May  Left wheel  Black   \n",
       "16072        8.0     Automatic          4x4  04-May  Left wheel  Black   \n",
       "15218        4.0     Tiptronic        Front  04-May  Left wheel  White   \n",
       "10920        4.0     Automatic        Front  04-May  Left wheel   Grey   \n",
       "\n",
       "       Airbags  \n",
       "2060         0  \n",
       "17657        4  \n",
       "10561        4  \n",
       "8922        12  \n",
       "3086        12  \n",
       "15562       12  \n",
       "5583         4  \n",
       "16072        0  \n",
       "15218       12  \n",
       "10920        4  "
      ]
     },
     "execution_count": 5,
     "metadata": {},
     "output_type": "execute_result"
    }
   ],
   "source": [
    "#reading csv file from kaggle\n",
    "data=pd.read_csv(\"car_price_prediction.csv\")\n",
    "data.sample(10)"
   ]
  },
  {
   "cell_type": "code",
   "execution_count": 6,
   "id": "72f2192c",
   "metadata": {
    "colab": {
     "base_uri": "https://localhost:8080/"
    },
    "executionInfo": {
     "elapsed": 851,
     "status": "ok",
     "timestamp": 1658846682986,
     "user": {
      "displayName": "pallavi panibhate",
      "userId": "11059935446571644621"
     },
     "user_tz": -330
    },
    "id": "72f2192c",
    "outputId": "fe67bb83-f426-4b54-b340-112f6efc0163",
    "papermill": {
     "duration": 0.068841,
     "end_time": "2022-07-11T16:04:36.310289",
     "exception": false,
     "start_time": "2022-07-11T16:04:36.241448",
     "status": "completed"
    },
    "tags": []
   },
   "outputs": [
    {
     "name": "stdout",
     "output_type": "stream",
     "text": [
      "<class 'pandas.core.frame.DataFrame'>\n",
      "RangeIndex: 19237 entries, 0 to 19236\n",
      "Data columns (total 18 columns):\n",
      " #   Column            Non-Null Count  Dtype  \n",
      "---  ------            --------------  -----  \n",
      " 0   ID                19237 non-null  int64  \n",
      " 1   Price             19237 non-null  int64  \n",
      " 2   Levy              19237 non-null  object \n",
      " 3   Manufacturer      19237 non-null  object \n",
      " 4   Model             19237 non-null  object \n",
      " 5   Prod. year        19237 non-null  int64  \n",
      " 6   Category          19237 non-null  object \n",
      " 7   Leather interior  19237 non-null  object \n",
      " 8   Fuel type         19237 non-null  object \n",
      " 9   Engine volume     19237 non-null  object \n",
      " 10  Mileage           19237 non-null  object \n",
      " 11  Cylinders         19237 non-null  float64\n",
      " 12  Gear box type     19237 non-null  object \n",
      " 13  Drive wheels      19237 non-null  object \n",
      " 14  Doors             19237 non-null  object \n",
      " 15  Wheel             19237 non-null  object \n",
      " 16  Color             19237 non-null  object \n",
      " 17  Airbags           19237 non-null  int64  \n",
      "dtypes: float64(1), int64(4), object(13)\n",
      "memory usage: 2.6+ MB\n"
     ]
    }
   ],
   "source": [
    "#displaying detail information of data\n",
    "data.info()"
   ]
  },
  {
   "cell_type": "code",
   "execution_count": 7,
   "id": "3b9648f1",
   "metadata": {
    "colab": {
     "base_uri": "https://localhost:8080/",
     "height": 300
    },
    "executionInfo": {
     "elapsed": 605,
     "status": "ok",
     "timestamp": 1658818535575,
     "user": {
      "displayName": "pallavi panibhate",
      "userId": "11059935446571644621"
     },
     "user_tz": -330
    },
    "id": "3b9648f1",
    "outputId": "cab6023f-23b1-4a80-b99c-9e2d601e3bdc",
    "papermill": {
     "duration": 0.050187,
     "end_time": "2022-07-11T16:04:36.370391",
     "exception": false,
     "start_time": "2022-07-11T16:04:36.320204",
     "status": "completed"
    },
    "tags": []
   },
   "outputs": [
    {
     "data": {
      "text/html": [
       "<div>\n",
       "<style scoped>\n",
       "    .dataframe tbody tr th:only-of-type {\n",
       "        vertical-align: middle;\n",
       "    }\n",
       "\n",
       "    .dataframe tbody tr th {\n",
       "        vertical-align: top;\n",
       "    }\n",
       "\n",
       "    .dataframe thead th {\n",
       "        text-align: right;\n",
       "    }\n",
       "</style>\n",
       "<table border=\"1\" class=\"dataframe\">\n",
       "  <thead>\n",
       "    <tr style=\"text-align: right;\">\n",
       "      <th></th>\n",
       "      <th>ID</th>\n",
       "      <th>Price</th>\n",
       "      <th>Prod. year</th>\n",
       "      <th>Cylinders</th>\n",
       "      <th>Airbags</th>\n",
       "    </tr>\n",
       "  </thead>\n",
       "  <tbody>\n",
       "    <tr>\n",
       "      <th>count</th>\n",
       "      <td>1.923700e+04</td>\n",
       "      <td>1.923700e+04</td>\n",
       "      <td>19237.000000</td>\n",
       "      <td>19237.000000</td>\n",
       "      <td>19237.000000</td>\n",
       "    </tr>\n",
       "    <tr>\n",
       "      <th>mean</th>\n",
       "      <td>4.557654e+07</td>\n",
       "      <td>1.855593e+04</td>\n",
       "      <td>2010.912824</td>\n",
       "      <td>4.582991</td>\n",
       "      <td>6.582627</td>\n",
       "    </tr>\n",
       "    <tr>\n",
       "      <th>std</th>\n",
       "      <td>9.365914e+05</td>\n",
       "      <td>1.905813e+05</td>\n",
       "      <td>5.668673</td>\n",
       "      <td>1.199933</td>\n",
       "      <td>4.320168</td>\n",
       "    </tr>\n",
       "    <tr>\n",
       "      <th>min</th>\n",
       "      <td>2.074688e+07</td>\n",
       "      <td>1.000000e+00</td>\n",
       "      <td>1939.000000</td>\n",
       "      <td>1.000000</td>\n",
       "      <td>0.000000</td>\n",
       "    </tr>\n",
       "    <tr>\n",
       "      <th>25%</th>\n",
       "      <td>4.569837e+07</td>\n",
       "      <td>5.331000e+03</td>\n",
       "      <td>2009.000000</td>\n",
       "      <td>4.000000</td>\n",
       "      <td>4.000000</td>\n",
       "    </tr>\n",
       "    <tr>\n",
       "      <th>50%</th>\n",
       "      <td>4.577231e+07</td>\n",
       "      <td>1.317200e+04</td>\n",
       "      <td>2012.000000</td>\n",
       "      <td>4.000000</td>\n",
       "      <td>6.000000</td>\n",
       "    </tr>\n",
       "    <tr>\n",
       "      <th>75%</th>\n",
       "      <td>4.580204e+07</td>\n",
       "      <td>2.207500e+04</td>\n",
       "      <td>2015.000000</td>\n",
       "      <td>4.000000</td>\n",
       "      <td>12.000000</td>\n",
       "    </tr>\n",
       "    <tr>\n",
       "      <th>max</th>\n",
       "      <td>4.581665e+07</td>\n",
       "      <td>2.630750e+07</td>\n",
       "      <td>2020.000000</td>\n",
       "      <td>16.000000</td>\n",
       "      <td>16.000000</td>\n",
       "    </tr>\n",
       "  </tbody>\n",
       "</table>\n",
       "</div>"
      ],
      "text/plain": [
       "                 ID         Price    Prod. year     Cylinders       Airbags\n",
       "count  1.923700e+04  1.923700e+04  19237.000000  19237.000000  19237.000000\n",
       "mean   4.557654e+07  1.855593e+04   2010.912824      4.582991      6.582627\n",
       "std    9.365914e+05  1.905813e+05      5.668673      1.199933      4.320168\n",
       "min    2.074688e+07  1.000000e+00   1939.000000      1.000000      0.000000\n",
       "25%    4.569837e+07  5.331000e+03   2009.000000      4.000000      4.000000\n",
       "50%    4.577231e+07  1.317200e+04   2012.000000      4.000000      6.000000\n",
       "75%    4.580204e+07  2.207500e+04   2015.000000      4.000000     12.000000\n",
       "max    4.581665e+07  2.630750e+07   2020.000000     16.000000     16.000000"
      ]
     },
     "execution_count": 7,
     "metadata": {},
     "output_type": "execute_result"
    }
   ],
   "source": [
    "#performing statistical analysis\n",
    "data.describe()"
   ]
  },
  {
   "cell_type": "code",
   "execution_count": 8,
   "id": "585720ce",
   "metadata": {
    "colab": {
     "base_uri": "https://localhost:8080/"
    },
    "executionInfo": {
     "elapsed": 34,
     "status": "ok",
     "timestamp": 1658846686831,
     "user": {
      "displayName": "pallavi panibhate",
      "userId": "11059935446571644621"
     },
     "user_tz": -330
    },
    "id": "585720ce",
    "outputId": "7e38b3e5-6313-4ac1-cbf8-3f34b41ac4d8",
    "papermill": {
     "duration": 0.049053,
     "end_time": "2022-07-11T16:04:36.428812",
     "exception": false,
     "start_time": "2022-07-11T16:04:36.379759",
     "status": "completed"
    },
    "tags": []
   },
   "outputs": [
    {
     "data": {
      "text/plain": [
       "ID                  0\n",
       "Price               0\n",
       "Levy                0\n",
       "Manufacturer        0\n",
       "Model               0\n",
       "Prod. year          0\n",
       "Category            0\n",
       "Leather interior    0\n",
       "Fuel type           0\n",
       "Engine volume       0\n",
       "Mileage             0\n",
       "Cylinders           0\n",
       "Gear box type       0\n",
       "Drive wheels        0\n",
       "Doors               0\n",
       "Wheel               0\n",
       "Color               0\n",
       "Airbags             0\n",
       "dtype: int64"
      ]
     },
     "execution_count": 8,
     "metadata": {},
     "output_type": "execute_result"
    }
   ],
   "source": [
    "#checking null values in data\n",
    "data.isnull().sum()"
   ]
  },
  {
   "cell_type": "code",
   "execution_count": 9,
   "id": "08b66afc",
   "metadata": {
    "colab": {
     "base_uri": "https://localhost:8080/"
    },
    "executionInfo": {
     "elapsed": 10,
     "status": "ok",
     "timestamp": 1658846690890,
     "user": {
      "displayName": "pallavi panibhate",
      "userId": "11059935446571644621"
     },
     "user_tz": -330
    },
    "id": "08b66afc",
    "outputId": "aca40776-99b3-4207-82d3-c3d2a878484c",
    "papermill": {
     "duration": 0.02673,
     "end_time": "2022-07-11T16:04:36.465053",
     "exception": false,
     "start_time": "2022-07-11T16:04:36.438323",
     "status": "completed"
    },
    "tags": []
   },
   "outputs": [
    {
     "name": "stdout",
     "output_type": "stream",
     "text": [
      "                  ID     Price  Prod. year  Cylinders   Airbags\n",
      "ID          1.000000 -0.000844    0.071352  -0.039319 -0.020527\n",
      "Price      -0.000844  1.000000    0.012982   0.007518 -0.012824\n",
      "Prod. year  0.071352  0.012982    1.000000  -0.096797  0.236969\n",
      "Cylinders  -0.039319  0.007518   -0.096797   1.000000  0.176868\n",
      "Airbags    -0.020527 -0.012824    0.236969   0.176868  1.000000\n"
     ]
    }
   ],
   "source": [
    "#ananlyzing corelation between labels\n",
    "correl=data.corr()\n",
    "print(correl)"
   ]
  },
  {
   "cell_type": "code",
   "execution_count": 10,
   "id": "39fe199e",
   "metadata": {
    "colab": {
     "base_uri": "https://localhost:8080/",
     "height": 286
    },
    "executionInfo": {
     "elapsed": 743,
     "status": "ok",
     "timestamp": 1658846693878,
     "user": {
      "displayName": "pallavi panibhate",
      "userId": "11059935446571644621"
     },
     "user_tz": -330
    },
    "id": "39fe199e",
    "outputId": "5aabdc0d-9e68-459c-a588-ff61a8c15aef",
    "papermill": {
     "duration": 0.340629,
     "end_time": "2022-07-11T16:04:36.815140",
     "exception": false,
     "start_time": "2022-07-11T16:04:36.474511",
     "status": "completed"
    },
    "tags": []
   },
   "outputs": [
    {
     "data": {
      "text/plain": [
       "<AxesSubplot:>"
      ]
     },
     "execution_count": 10,
     "metadata": {},
     "output_type": "execute_result"
    },
    {
     "data": {
      "image/png": "[encoded data removed]",
      "text/plain": [
       "<Figure size 432x288 with 2 Axes>"
      ]
     },
     "metadata": {
      "needs_background": "light"
     },
     "output_type": "display_data"
    }
   ],
   "source": [
    "#visualizing data corelation\n",
    "sns.heatmap(correl,annot=True)"
   ]
  },
  {
   "cell_type": "code",
   "execution_count": 11,
   "id": "4f9aaaae",
   "metadata": {
    "colab": {
     "base_uri": "https://localhost:8080/",
     "height": 391
    },
    "executionInfo": {
     "elapsed": 30,
     "status": "ok",
     "timestamp": 1658846695760,
     "user": {
      "displayName": "pallavi panibhate",
      "userId": "11059935446571644621"
     },
     "user_tz": -330
    },
    "id": "4f9aaaae",
    "outputId": "1c46b05a-09eb-47a9-b723-c278680a3850",
    "papermill": {
     "duration": 0.470329,
     "end_time": "2022-07-11T16:04:37.296074",
     "exception": false,
     "start_time": "2022-07-11T16:04:36.825745",
     "status": "completed"
    },
    "tags": []
   },
   "outputs": [
    {
     "data": {
      "image/png": "[encoded data removed]",
      "text/plain": [
       "<Figure size 1584x720 with 2 Axes>"
      ]
     },
     "metadata": {
      "needs_background": "light"
     },
     "output_type": "display_data"
    }
   ],
   "source": [
    "#visualizing Manufacture Company with thier Model Productions\n",
    "fig, ax =plt.subplots(1,2,figsize=(22, 10))\n",
    "sns.countplot(y ='Model',data = data,order=data.Model.value_counts().iloc[:10].index, ax = ax[1] )\n",
    "sns.countplot(y ='Manufacturer',data = data,order=data.Manufacturer.value_counts().iloc[:12].index,ax=ax[0])\n",
    "plt.show()"
   ]
  },
  {
   "cell_type": "code",
   "execution_count": 12,
   "id": "58ec7bd9",
   "metadata": {
    "colab": {
     "base_uri": "https://localhost:8080/",
     "height": 394
    },
    "executionInfo": {
     "elapsed": 456,
     "status": "ok",
     "timestamp": 1658846698225,
     "user": {
      "displayName": "pallavi panibhate",
      "userId": "11059935446571644621"
     },
     "user_tz": -330
    },
    "id": "58ec7bd9",
    "outputId": "14429ead-5034-4370-8126-bdfc22959e69",
    "papermill": {
     "duration": 0.257684,
     "end_time": "2022-07-11T16:04:37.564485",
     "exception": false,
     "start_time": "2022-07-11T16:04:37.306801",
     "status": "completed"
    },
    "tags": []
   },
   "outputs": [
    {
     "name": "stderr",
     "output_type": "stream",
     "text": [
      "/usr/local/lib/python3.7/site-packages/seaborn/_decorators.py:43: FutureWarning: Pass the following variables as keyword args: x, y. From version 0.12, the only valid positional argument will be `data`, and passing other arguments without an explicit keyword will result in an error or misinterpretation.\n",
      "  FutureWarning\n"
     ]
    },
    {
     "data": {
      "image/png": "[encoded data removed]",
      "text/plain": [
       "<Figure size 432x288 with 1 Axes>"
      ]
     },
     "metadata": {
      "needs_background": "light"
     },
     "output_type": "display_data"
    }
   ],
   "source": [
    "Cate_count=data['Category'].value_counts()\n",
    "#sns.set(style=\"whitegrid\")\n",
    "sns.barplot(Cate_count.index,Cate_count.values)\n",
    "plt.title(\"Total Products by Category\")\n",
    "plt.xticks(rotation='vertical')\n",
    "plt.ylabel(\"Total number of each Categories\")\n",
    "plt.show()"
   ]
  },
  {
   "cell_type": "code",
   "execution_count": 13,
   "id": "4f93097f",
   "metadata": {
    "colab": {
     "base_uri": "https://localhost:8080/"
    },
    "executionInfo": {
     "elapsed": 484,
     "status": "ok",
     "timestamp": 1658846701455,
     "user": {
      "displayName": "pallavi panibhate",
      "userId": "11059935446571644621"
     },
     "user_tz": -330
    },
    "id": "4f93097f",
    "outputId": "157b7b65-22d9-48fc-df2d-f24b5cf61939",
    "papermill": {
     "duration": 0.034141,
     "end_time": "2022-07-11T16:04:37.609694",
     "exception": false,
     "start_time": "2022-07-11T16:04:37.575553",
     "status": "completed"
    },
    "tags": []
   },
   "outputs": [
    {
     "data": {
      "text/plain": [
       "1    13954\n",
       "0     5283\n",
       "Name: Leather interior, dtype: int64"
      ]
     },
     "execution_count": 13,
     "metadata": {},
     "output_type": "execute_result"
    }
   ],
   "source": [
    "#we can fit the model only numerical values not categorical thats why applying encoding techniques\n",
    "le=LabelEncoder()\n",
    "data['Leather interior']=le.fit_transform(data['Leather interior'])\n",
    "data['Leather interior'].value_counts()"
   ]
  },
  {
   "cell_type": "code",
   "execution_count": 14,
   "id": "08UysmBxjYX1",
   "metadata": {
    "id": "08UysmBxjYX1"
   },
   "outputs": [],
   "source": [
    "#help(plt.bar)"
   ]
  },
  {
   "cell_type": "code",
   "execution_count": 15,
   "id": "jeBVq9OUjJzn",
   "metadata": {
    "colab": {
     "base_uri": "https://localhost:8080/",
     "height": 265
    },
    "executionInfo": {
     "elapsed": 423,
     "status": "ok",
     "timestamp": 1658846703795,
     "user": {
      "displayName": "pallavi panibhate",
      "userId": "11059935446571644621"
     },
     "user_tz": -330
    },
    "id": "jeBVq9OUjJzn",
    "outputId": "5b202dce-aaa3-4325-9e15-e86687812e40"
   },
   "outputs": [
    {
     "data": {
      "image/png": "[encoded data removed]",
      "text/plain": [
       "<Figure size 432x288 with 1 Axes>"
      ]
     },
     "metadata": {
      "needs_background": "light"
     },
     "output_type": "display_data"
    }
   ],
   "source": [
    "plt.hist(data['Leather interior'],label=\"Leather Interior\")\n",
    "plt.show()  "
   ]
  },
  {
   "cell_type": "code",
   "execution_count": 16,
   "id": "6uXXYeP3n4di",
   "metadata": {
    "colab": {
     "base_uri": "https://localhost:8080/"
    },
    "executionInfo": {
     "elapsed": 418,
     "status": "ok",
     "timestamp": 1658846708876,
     "user": {
      "displayName": "pallavi panibhate",
      "userId": "11059935446571644621"
     },
     "user_tz": -330
    },
    "id": "6uXXYeP3n4di",
    "outputId": "d48dd809-d359-4f84-b81f-0ee521bb1274"
   },
   "outputs": [
    {
     "data": {
      "text/plain": [
       "Automatic    13514\n",
       "Tiptronic     3102\n",
       "Manual        1875\n",
       "Variator       746\n",
       "Name: Gear box type, dtype: int64"
      ]
     },
     "execution_count": 16,
     "metadata": {},
     "output_type": "execute_result"
    }
   ],
   "source": [
    "data['Gear box type'].value_counts()"
   ]
  },
  {
   "cell_type": "code",
   "execution_count": 17,
   "id": "15b4e3b1",
   "metadata": {
    "colab": {
     "base_uri": "https://localhost:8080/",
     "height": 335
    },
    "executionInfo": {
     "elapsed": 692,
     "status": "ok",
     "timestamp": 1658846711989,
     "user": {
      "displayName": "pallavi panibhate",
      "userId": "11059935446571644621"
     },
     "user_tz": -330
    },
    "id": "15b4e3b1",
    "outputId": "c6c81391-4cd0-4806-8044-c25f59aed5c5",
    "papermill": {
     "duration": 0.033904,
     "end_time": "2022-07-11T16:04:37.655853",
     "exception": false,
     "start_time": "2022-07-11T16:04:37.621949",
     "status": "completed"
    },
    "tags": []
   },
   "outputs": [
    {
     "name": "stderr",
     "output_type": "stream",
     "text": [
      "/usr/local/lib/python3.7/site-packages/seaborn/_decorators.py:43: FutureWarning: Pass the following variables as keyword args: x, y. From version 0.12, the only valid positional argument will be `data`, and passing other arguments without an explicit keyword will result in an error or misinterpretation.\n",
      "  FutureWarning\n"
     ]
    },
    {
     "data": {
      "image/png": "[encoded data removed]",
      "text/plain": [
       "<Figure size 432x288 with 1 Axes>"
      ]
     },
     "metadata": {
      "needs_background": "light"
     },
     "output_type": "display_data"
    }
   ],
   "source": [
    "data['Gear box type']=le.fit_transform(data['Gear box type'])\n",
    "x=data['Gear box type']\n",
    "y=data['Gear box type'].value_counts()\n",
    "sns.barplot(x,y)\n",
    "plt.show()"
   ]
  },
  {
   "cell_type": "code",
   "execution_count": 29,
   "id": "5bec01f3",
   "metadata": {
    "colab": {
     "base_uri": "https://localhost:8080/"
    },
    "executionInfo": {
     "elapsed": 400,
     "status": "ok",
     "timestamp": 1658846717415,
     "user": {
      "displayName": "pallavi panibhate",
      "userId": "11059935446571644621"
     },
     "user_tz": -330
    },
    "id": "5bec01f3",
    "outputId": "88f80888-480d-491d-ddb5-f005c7ca45b0",
    "papermill": {
     "duration": 0.030419,
     "end_time": "2022-07-11T16:04:37.697779",
     "exception": false,
     "start_time": "2022-07-11T16:04:37.667360",
     "status": "completed"
    },
    "tags": []
   },
   "outputs": [
    {
     "data": {
      "text/plain": [
       "array([2, 5, 1, 0, 6, 4, 3])"
      ]
     },
     "execution_count": 29,
     "metadata": {},
     "output_type": "execute_result"
    }
   ],
   "source": [
    "data['Fuel type']=le.fit_transform(data['Fuel type'])\n",
    "data['Fuel type'].unique()"
   ]
  },
  {
   "cell_type": "code",
   "execution_count": 30,
   "id": "gks-MH80qPpz",
   "metadata": {
    "colab": {
     "base_uri": "https://localhost:8080/"
    },
    "executionInfo": {
     "elapsed": 6,
     "status": "ok",
     "timestamp": 1658846718913,
     "user": {
      "displayName": "pallavi panibhate",
      "userId": "11059935446571644621"
     },
     "user_tz": -330
    },
    "id": "gks-MH80qPpz",
    "outputId": "f9e8b433-f839-4b01-83ec-e952a95443ad"
   },
   "outputs": [
    {
     "data": {
      "text/plain": [
       "0        32\n",
       "1         8\n",
       "2        21\n",
       "3        16\n",
       "4        21\n",
       "         ..\n",
       "19232    36\n",
       "19233    23\n",
       "19234    23\n",
       "19235     8\n",
       "19236    23\n",
       "Name: Manufacturer, Length: 19237, dtype: int64"
      ]
     },
     "execution_count": 30,
     "metadata": {},
     "output_type": "execute_result"
    }
   ],
   "source": [
    "data['Manufacturer']=le.fit_transform(data['Manufacturer'])\n",
    "data['Manufacturer']"
   ]
  },
  {
   "cell_type": "code",
   "execution_count": 31,
   "id": "QtL9BxOppvDX",
   "metadata": {
    "colab": {
     "base_uri": "https://localhost:8080/"
    },
    "executionInfo": {
     "elapsed": 399,
     "status": "ok",
     "timestamp": 1658846722516,
     "user": {
      "displayName": "pallavi panibhate",
      "userId": "11059935446571644621"
     },
     "user_tz": -330
    },
    "id": "QtL9BxOppvDX",
    "outputId": "4f5ee605-5b9e-410d-cb17-9609fbe44f57"
   },
   "outputs": [
    {
     "data": {
      "text/plain": [
       "Index(['ID', 'Price', 'Levy', 'Manufacturer', 'Model', 'Prod. year',\n",
       "       'Category', 'Leather interior', 'Fuel type', 'Engine volume', 'Mileage',\n",
       "       'Cylinders', 'Gear box type', 'Drive wheels', 'Doors', 'Wheel', 'Color',\n",
       "       'Airbags'],\n",
       "      dtype='object')"
      ]
     },
     "execution_count": 31,
     "metadata": {},
     "output_type": "execute_result"
    }
   ],
   "source": [
    "data.columns"
   ]
  },
  {
   "cell_type": "code",
   "execution_count": 32,
   "id": "ccfd5850",
   "metadata": {
    "colab": {
     "base_uri": "https://localhost:8080/",
     "height": 206
    },
    "executionInfo": {
     "elapsed": 42,
     "status": "ok",
     "timestamp": 1658846724433,
     "user": {
      "displayName": "pallavi panibhate",
      "userId": "11059935446571644621"
     },
     "user_tz": -330
    },
    "id": "ccfd5850",
    "outputId": "72ec8daf-616c-4f3d-f7c7-062e05058a69",
    "papermill": {
     "duration": 0.078704,
     "end_time": "2022-07-11T16:04:37.787702",
     "exception": false,
     "start_time": "2022-07-11T16:04:37.708998",
     "status": "completed"
    },
    "tags": []
   },
   "outputs": [
    {
     "data": {
      "text/html": [
       "<div>\n",
       "<style scoped>\n",
       "    .dataframe tbody tr th:only-of-type {\n",
       "        vertical-align: middle;\n",
       "    }\n",
       "\n",
       "    .dataframe tbody tr th {\n",
       "        vertical-align: top;\n",
       "    }\n",
       "\n",
       "    .dataframe thead th {\n",
       "        text-align: right;\n",
       "    }\n",
       "</style>\n",
       "<table border=\"1\" class=\"dataframe\">\n",
       "  <thead>\n",
       "    <tr style=\"text-align: right;\">\n",
       "      <th></th>\n",
       "      <th>Manufacturer</th>\n",
       "      <th>Airbags</th>\n",
       "      <th>Cylinders</th>\n",
       "      <th>Gear box type</th>\n",
       "      <th>Fuel type</th>\n",
       "    </tr>\n",
       "  </thead>\n",
       "  <tbody>\n",
       "    <tr>\n",
       "      <th>0</th>\n",
       "      <td>32</td>\n",
       "      <td>12</td>\n",
       "      <td>6.0</td>\n",
       "      <td>0</td>\n",
       "      <td>2</td>\n",
       "    </tr>\n",
       "    <tr>\n",
       "      <th>1</th>\n",
       "      <td>8</td>\n",
       "      <td>8</td>\n",
       "      <td>6.0</td>\n",
       "      <td>2</td>\n",
       "      <td>5</td>\n",
       "    </tr>\n",
       "    <tr>\n",
       "      <th>2</th>\n",
       "      <td>21</td>\n",
       "      <td>2</td>\n",
       "      <td>4.0</td>\n",
       "      <td>3</td>\n",
       "      <td>5</td>\n",
       "    </tr>\n",
       "    <tr>\n",
       "      <th>3</th>\n",
       "      <td>16</td>\n",
       "      <td>0</td>\n",
       "      <td>4.0</td>\n",
       "      <td>0</td>\n",
       "      <td>2</td>\n",
       "    </tr>\n",
       "    <tr>\n",
       "      <th>4</th>\n",
       "      <td>21</td>\n",
       "      <td>4</td>\n",
       "      <td>4.0</td>\n",
       "      <td>0</td>\n",
       "      <td>5</td>\n",
       "    </tr>\n",
       "  </tbody>\n",
       "</table>\n",
       "</div>"
      ],
      "text/plain": [
       "   Manufacturer  Airbags  Cylinders  Gear box type  Fuel type\n",
       "0            32       12        6.0              0          2\n",
       "1             8        8        6.0              2          5\n",
       "2            21        2        4.0              3          5\n",
       "3            16        0        4.0              0          2\n",
       "4            21        4        4.0              0          5"
      ]
     },
     "execution_count": 32,
     "metadata": {},
     "output_type": "execute_result"
    }
   ],
   "source": [
    "\n",
    "feature_data=data[['Manufacturer','Airbags','Cylinders','Gear box type','Fuel type']]\n",
    "feature_data.head()\n"
   ]
  },
  {
   "cell_type": "code",
   "execution_count": 33,
   "id": "8e599451",
   "metadata": {
    "colab": {
     "base_uri": "https://localhost:8080/"
    },
    "executionInfo": {
     "elapsed": 11,
     "status": "ok",
     "timestamp": 1658846727212,
     "user": {
      "displayName": "pallavi panibhate",
      "userId": "11059935446571644621"
     },
     "user_tz": -330
    },
    "id": "8e599451",
    "outputId": "1b0a92f4-4696-45de-f6da-76559e36e22d",
    "papermill": {
     "duration": 0.029211,
     "end_time": "2022-07-11T16:04:37.828531",
     "exception": false,
     "start_time": "2022-07-11T16:04:37.799320",
     "status": "completed"
    },
    "tags": []
   },
   "outputs": [
    {
     "name": "stdout",
     "output_type": "stream",
     "text": [
      "Manufacturer : 65 Labels\n",
      "Airbags : 17 Labels\n",
      "Cylinders : 13 Labels\n",
      "Gear box type : 4 Labels\n",
      "Fuel type : 7 Labels\n"
     ]
    }
   ],
   "source": [
    "for cols in feature_data.columns[0:]:\n",
    "    print(cols,':',len(feature_data[cols].unique()),\"Labels\")\n",
    "    "
   ]
  },
  {
   "cell_type": "markdown",
   "id": "3c8838ae-0d4b-4cb0-99b1-fe77aa8c9523",
   "metadata": {
    "execution": {
     "iopub.execute_input": "2022-07-11T16:04:37.853518Z",
     "iopub.status.busy": "2022-07-11T16:04:37.853084Z",
     "iopub.status.idle": "2022-07-11T16:04:37.882058Z",
     "shell.execute_reply": "2022-07-11T16:04:37.880782Z"
    },
    "id": "915ceeec",
    "papermill": {
     "duration": 0.044561,
     "end_time": "2022-07-11T16:04:37.884641",
     "exception": false,
     "start_time": "2022-07-11T16:04:37.840080",
     "status": "completed"
    },
    "tags": []
   },
   "source": [
    "Frequency_Manu=data1.Manufacturer.value_counts().to_dict()\n",
    "Frequency_Model=data1.Model.value_counts().to_dict()\n",
    "Frequency_Cat=data1.Category.value_counts().to_dict()\n",
    "\n",
    "data.Manufacturer=data1.Manufacturer.map(Frequency_Manu)\n",
    "data.Model=data1.Model.map(Frequency_Model)\n",
    "data.Category=data1.Category.map(Frequency_Cat)"
   ]
  },
  {
   "cell_type": "code",
   "execution_count": 34,
   "id": "43ce8a15",
   "metadata": {
    "colab": {
     "base_uri": "https://localhost:8080/",
     "height": 409
    },
    "executionInfo": {
     "elapsed": 604,
     "status": "ok",
     "timestamp": 1658748189623,
     "user": {
      "displayName": "pallavi panibhate",
      "userId": "11059935446571644621"
     },
     "user_tz": -330
    },
    "id": "43ce8a15",
    "outputId": "81bbdc4b-c113-4e53-a8d7-3cabb9dada23",
    "papermill": {
     "duration": 0.036558,
     "end_time": "2022-07-11T16:04:37.933106",
     "exception": false,
     "start_time": "2022-07-11T16:04:37.896548",
     "status": "completed"
    },
    "tags": []
   },
   "outputs": [
    {
     "data": {
      "text/html": [
       "<div>\n",
       "<style scoped>\n",
       "    .dataframe tbody tr th:only-of-type {\n",
       "        vertical-align: middle;\n",
       "    }\n",
       "\n",
       "    .dataframe tbody tr th {\n",
       "        vertical-align: top;\n",
       "    }\n",
       "\n",
       "    .dataframe thead th {\n",
       "        text-align: right;\n",
       "    }\n",
       "</style>\n",
       "<table border=\"1\" class=\"dataframe\">\n",
       "  <thead>\n",
       "    <tr style=\"text-align: right;\">\n",
       "      <th></th>\n",
       "      <th>ID</th>\n",
       "      <th>Price</th>\n",
       "      <th>Levy</th>\n",
       "      <th>Manufacturer</th>\n",
       "      <th>Model</th>\n",
       "      <th>Prod. year</th>\n",
       "      <th>Category</th>\n",
       "      <th>Leather interior</th>\n",
       "      <th>Fuel type</th>\n",
       "      <th>Engine volume</th>\n",
       "      <th>Mileage</th>\n",
       "      <th>Cylinders</th>\n",
       "      <th>Gear box type</th>\n",
       "      <th>Drive wheels</th>\n",
       "      <th>Doors</th>\n",
       "      <th>Wheel</th>\n",
       "      <th>Color</th>\n",
       "      <th>Airbags</th>\n",
       "    </tr>\n",
       "  </thead>\n",
       "  <tbody>\n",
       "    <tr>\n",
       "      <th>0</th>\n",
       "      <td>45654403</td>\n",
       "      <td>13328</td>\n",
       "      <td>1399</td>\n",
       "      <td>32</td>\n",
       "      <td>RX 450</td>\n",
       "      <td>2010</td>\n",
       "      <td>Jeep</td>\n",
       "      <td>1</td>\n",
       "      <td>2</td>\n",
       "      <td>3.5</td>\n",
       "      <td>186005 km</td>\n",
       "      <td>6.0</td>\n",
       "      <td>0</td>\n",
       "      <td>4x4</td>\n",
       "      <td>04-May</td>\n",
       "      <td>Left wheel</td>\n",
       "      <td>Silver</td>\n",
       "      <td>12</td>\n",
       "    </tr>\n",
       "    <tr>\n",
       "      <th>1</th>\n",
       "      <td>44731507</td>\n",
       "      <td>16621</td>\n",
       "      <td>1018</td>\n",
       "      <td>8</td>\n",
       "      <td>Equinox</td>\n",
       "      <td>2011</td>\n",
       "      <td>Jeep</td>\n",
       "      <td>0</td>\n",
       "      <td>5</td>\n",
       "      <td>3</td>\n",
       "      <td>192000 km</td>\n",
       "      <td>6.0</td>\n",
       "      <td>2</td>\n",
       "      <td>4x4</td>\n",
       "      <td>04-May</td>\n",
       "      <td>Left wheel</td>\n",
       "      <td>Black</td>\n",
       "      <td>8</td>\n",
       "    </tr>\n",
       "    <tr>\n",
       "      <th>2</th>\n",
       "      <td>45774419</td>\n",
       "      <td>8467</td>\n",
       "      <td>-</td>\n",
       "      <td>21</td>\n",
       "      <td>FIT</td>\n",
       "      <td>2006</td>\n",
       "      <td>Hatchback</td>\n",
       "      <td>0</td>\n",
       "      <td>5</td>\n",
       "      <td>1.3</td>\n",
       "      <td>200000 km</td>\n",
       "      <td>4.0</td>\n",
       "      <td>3</td>\n",
       "      <td>Front</td>\n",
       "      <td>04-May</td>\n",
       "      <td>Right-hand drive</td>\n",
       "      <td>Black</td>\n",
       "      <td>2</td>\n",
       "    </tr>\n",
       "    <tr>\n",
       "      <th>3</th>\n",
       "      <td>45769185</td>\n",
       "      <td>3607</td>\n",
       "      <td>862</td>\n",
       "      <td>16</td>\n",
       "      <td>Escape</td>\n",
       "      <td>2011</td>\n",
       "      <td>Jeep</td>\n",
       "      <td>1</td>\n",
       "      <td>2</td>\n",
       "      <td>2.5</td>\n",
       "      <td>168966 km</td>\n",
       "      <td>4.0</td>\n",
       "      <td>0</td>\n",
       "      <td>4x4</td>\n",
       "      <td>04-May</td>\n",
       "      <td>Left wheel</td>\n",
       "      <td>White</td>\n",
       "      <td>0</td>\n",
       "    </tr>\n",
       "    <tr>\n",
       "      <th>4</th>\n",
       "      <td>45809263</td>\n",
       "      <td>11726</td>\n",
       "      <td>446</td>\n",
       "      <td>21</td>\n",
       "      <td>FIT</td>\n",
       "      <td>2014</td>\n",
       "      <td>Hatchback</td>\n",
       "      <td>1</td>\n",
       "      <td>5</td>\n",
       "      <td>1.3</td>\n",
       "      <td>91901 km</td>\n",
       "      <td>4.0</td>\n",
       "      <td>0</td>\n",
       "      <td>Front</td>\n",
       "      <td>04-May</td>\n",
       "      <td>Left wheel</td>\n",
       "      <td>Silver</td>\n",
       "      <td>4</td>\n",
       "    </tr>\n",
       "  </tbody>\n",
       "</table>\n",
       "</div>"
      ],
      "text/plain": [
       "         ID  Price  Levy  Manufacturer    Model  Prod. year   Category  \\\n",
       "0  45654403  13328  1399            32   RX 450        2010       Jeep   \n",
       "1  44731507  16621  1018             8  Equinox        2011       Jeep   \n",
       "2  45774419   8467     -            21      FIT        2006  Hatchback   \n",
       "3  45769185   3607   862            16   Escape        2011       Jeep   \n",
       "4  45809263  11726   446            21      FIT        2014  Hatchback   \n",
       "\n",
       "   Leather interior  Fuel type Engine volume    Mileage  Cylinders  \\\n",
       "0                 1          2           3.5  186005 km        6.0   \n",
       "1                 0          5             3  192000 km        6.0   \n",
       "2                 0          5           1.3  200000 km        4.0   \n",
       "3                 1          2           2.5  168966 km        4.0   \n",
       "4                 1          5           1.3   91901 km        4.0   \n",
       "\n",
       "   Gear box type Drive wheels   Doors             Wheel   Color  Airbags  \n",
       "0              0          4x4  04-May        Left wheel  Silver       12  \n",
       "1              2          4x4  04-May        Left wheel   Black        8  \n",
       "2              3        Front  04-May  Right-hand drive   Black        2  \n",
       "3              0          4x4  04-May        Left wheel   White        0  \n",
       "4              0        Front  04-May        Left wheel  Silver        4  "
      ]
     },
     "execution_count": 34,
     "metadata": {},
     "output_type": "execute_result"
    }
   ],
   "source": [
    "data.head()"
   ]
  },
  {
   "cell_type": "code",
   "execution_count": 24,
   "id": "051c0fd9",
   "metadata": {
    "colab": {
     "base_uri": "https://localhost:8080/"
    },
    "executionInfo": {
     "elapsed": 429,
     "status": "ok",
     "timestamp": 1658763721523,
     "user": {
      "displayName": "pallavi panibhate",
      "userId": "11059935446571644621"
     },
     "user_tz": -330
    },
    "id": "051c0fd9",
    "outputId": "2a8f19c8-46ce-493a-ed52-080d1d1670fe",
    "papermill": {
     "duration": 0.047169,
     "end_time": "2022-07-11T16:04:37.992573",
     "exception": false,
     "start_time": "2022-07-11T16:04:37.945404",
     "status": "completed"
    },
    "tags": []
   },
   "outputs": [
    {
     "name": "stdout",
     "output_type": "stream",
     "text": [
      "<class 'pandas.core.frame.DataFrame'>\n",
      "RangeIndex: 19237 entries, 0 to 19236\n",
      "Data columns (total 18 columns):\n",
      " #   Column            Non-Null Count  Dtype  \n",
      "---  ------            --------------  -----  \n",
      " 0   ID                19237 non-null  int64  \n",
      " 1   Price             19237 non-null  int64  \n",
      " 2   Levy              19237 non-null  object \n",
      " 3   Manufacturer      19237 non-null  int64  \n",
      " 4   Model             19237 non-null  object \n",
      " 5   Prod. year        19237 non-null  int64  \n",
      " 6   Category          19237 non-null  object \n",
      " 7   Leather interior  19237 non-null  int64  \n",
      " 8   Fuel type         19237 non-null  object \n",
      " 9   Engine volume     19237 non-null  object \n",
      " 10  Mileage           19237 non-null  object \n",
      " 11  Cylinders         19237 non-null  float64\n",
      " 12  Gear box type     19237 non-null  int64  \n",
      " 13  Drive wheels      19237 non-null  object \n",
      " 14  Doors             19237 non-null  object \n",
      " 15  Wheel             19237 non-null  object \n",
      " 16  Color             19237 non-null  object \n",
      " 17  Airbags           19237 non-null  int64  \n",
      "dtypes: float64(1), int64(7), object(10)\n",
      "memory usage: 2.6+ MB\n"
     ]
    }
   ],
   "source": [
    "data.info()"
   ]
  },
  {
   "cell_type": "code",
   "execution_count": null,
   "id": "756fa849",
   "metadata": {
    "execution": {
     "iopub.execute_input": "2022-07-11T16:04:38.018372Z",
     "iopub.status.busy": "2022-07-11T16:04:38.018000Z",
     "iopub.status.idle": "2022-07-11T16:04:38.024823Z",
     "shell.execute_reply": "2022-07-11T16:04:38.023697Z"
    },
    "id": "756fa849",
    "papermill": {
     "duration": 0.022822,
     "end_time": "2022-07-11T16:04:38.027263",
     "exception": false,
     "start_time": "2022-07-11T16:04:38.004441",
     "status": "completed"
    },
    "tags": []
   },
   "outputs": [],
   "source": [
    "#data['Cylinders']=data['Cylinders'].astype(float).astype(int)"
   ]
  },
  {
   "cell_type": "code",
   "execution_count": null,
   "id": "f9db8f45",
   "metadata": {
    "colab": {
     "base_uri": "https://localhost:8080/",
     "height": 713
    },
    "execution": {
     "iopub.execute_input": "2022-07-11T16:04:38.052353Z",
     "iopub.status.busy": "2022-07-11T16:04:38.051965Z",
     "iopub.status.idle": "2022-07-11T16:04:38.080875Z",
     "shell.execute_reply": "2022-07-11T16:04:38.079641Z"
    },
    "executionInfo": {
     "elapsed": 834,
     "status": "ok",
     "timestamp": 1658748203626,
     "user": {
      "displayName": "pallavi panibhate",
      "userId": "11059935446571644621"
     },
     "user_tz": -330
    },
    "id": "f9db8f45",
    "outputId": "0007a447-250c-4cdd-88dc-88f4dd84d9a6",
    "papermill": {
     "duration": 0.044327,
     "end_time": "2022-07-11T16:04:38.083276",
     "exception": false,
     "start_time": "2022-07-11T16:04:38.038949",
     "status": "completed"
    },
    "tags": []
   },
   "outputs": [
    {
     "data": {
      "text/html": [
       "\n",
       "  <div id=\"df-a4727b95-cad2-4ccf-bc2c-1688e17a4d48\">\n",
       "    <div class=\"colab-df-container\">\n",
       "      <div>\n",
       "<style scoped>\n",
       "    .dataframe tbody tr th:only-of-type {\n",
       "        vertical-align: middle;\n",
       "    }\n",
       "\n",
       "    .dataframe tbody tr th {\n",
       "        vertical-align: top;\n",
       "    }\n",
       "\n",
       "    .dataframe thead th {\n",
       "        text-align: right;\n",
       "    }\n",
       "</style>\n",
       "<table border=\"1\" class=\"dataframe\">\n",
       "  <thead>\n",
       "    <tr style=\"text-align: right;\">\n",
       "      <th></th>\n",
       "      <th>ID</th>\n",
       "      <th>Price</th>\n",
       "      <th>Levy</th>\n",
       "      <th>Manufacturer</th>\n",
       "      <th>Model</th>\n",
       "      <th>Prod. year</th>\n",
       "      <th>Category</th>\n",
       "      <th>Leather interior</th>\n",
       "      <th>Fuel type</th>\n",
       "      <th>Mileage</th>\n",
       "      <th>Cylinders</th>\n",
       "      <th>Gear box type</th>\n",
       "      <th>Drive wheels</th>\n",
       "      <th>Doors</th>\n",
       "      <th>Wheel</th>\n",
       "      <th>Color</th>\n",
       "      <th>Airbags</th>\n",
       "    </tr>\n",
       "  </thead>\n",
       "  <tbody>\n",
       "    <tr>\n",
       "      <th>0</th>\n",
       "      <td>45654403</td>\n",
       "      <td>13328</td>\n",
       "      <td>1399</td>\n",
       "      <td>32</td>\n",
       "      <td>RX 450</td>\n",
       "      <td>2010</td>\n",
       "      <td>Jeep</td>\n",
       "      <td>1</td>\n",
       "      <td>2</td>\n",
       "      <td>186005 km</td>\n",
       "      <td>6</td>\n",
       "      <td>0</td>\n",
       "      <td>4x4</td>\n",
       "      <td>04-May</td>\n",
       "      <td>Left wheel</td>\n",
       "      <td>Silver</td>\n",
       "      <td>12</td>\n",
       "    </tr>\n",
       "    <tr>\n",
       "      <th>1</th>\n",
       "      <td>44731507</td>\n",
       "      <td>16621</td>\n",
       "      <td>1018</td>\n",
       "      <td>8</td>\n",
       "      <td>Equinox</td>\n",
       "      <td>2011</td>\n",
       "      <td>Jeep</td>\n",
       "      <td>0</td>\n",
       "      <td>5</td>\n",
       "      <td>192000 km</td>\n",
       "      <td>6</td>\n",
       "      <td>2</td>\n",
       "      <td>4x4</td>\n",
       "      <td>04-May</td>\n",
       "      <td>Left wheel</td>\n",
       "      <td>Black</td>\n",
       "      <td>8</td>\n",
       "    </tr>\n",
       "    <tr>\n",
       "      <th>2</th>\n",
       "      <td>45774419</td>\n",
       "      <td>8467</td>\n",
       "      <td>-</td>\n",
       "      <td>21</td>\n",
       "      <td>FIT</td>\n",
       "      <td>2006</td>\n",
       "      <td>Hatchback</td>\n",
       "      <td>0</td>\n",
       "      <td>5</td>\n",
       "      <td>200000 km</td>\n",
       "      <td>4</td>\n",
       "      <td>3</td>\n",
       "      <td>Front</td>\n",
       "      <td>04-May</td>\n",
       "      <td>Right-hand drive</td>\n",
       "      <td>Black</td>\n",
       "      <td>2</td>\n",
       "    </tr>\n",
       "    <tr>\n",
       "      <th>3</th>\n",
       "      <td>45769185</td>\n",
       "      <td>3607</td>\n",
       "      <td>862</td>\n",
       "      <td>16</td>\n",
       "      <td>Escape</td>\n",
       "      <td>2011</td>\n",
       "      <td>Jeep</td>\n",
       "      <td>1</td>\n",
       "      <td>2</td>\n",
       "      <td>168966 km</td>\n",
       "      <td>4</td>\n",
       "      <td>0</td>\n",
       "      <td>4x4</td>\n",
       "      <td>04-May</td>\n",
       "      <td>Left wheel</td>\n",
       "      <td>White</td>\n",
       "      <td>0</td>\n",
       "    </tr>\n",
       "    <tr>\n",
       "      <th>4</th>\n",
       "      <td>45809263</td>\n",
       "      <td>11726</td>\n",
       "      <td>446</td>\n",
       "      <td>21</td>\n",
       "      <td>FIT</td>\n",
       "      <td>2014</td>\n",
       "      <td>Hatchback</td>\n",
       "      <td>1</td>\n",
       "      <td>5</td>\n",
       "      <td>91901 km</td>\n",
       "      <td>4</td>\n",
       "      <td>0</td>\n",
       "      <td>Front</td>\n",
       "      <td>04-May</td>\n",
       "      <td>Left wheel</td>\n",
       "      <td>Silver</td>\n",
       "      <td>4</td>\n",
       "    </tr>\n",
       "    <tr>\n",
       "      <th>...</th>\n",
       "      <td>...</td>\n",
       "      <td>...</td>\n",
       "      <td>...</td>\n",
       "      <td>...</td>\n",
       "      <td>...</td>\n",
       "      <td>...</td>\n",
       "      <td>...</td>\n",
       "      <td>...</td>\n",
       "      <td>...</td>\n",
       "      <td>...</td>\n",
       "      <td>...</td>\n",
       "      <td>...</td>\n",
       "      <td>...</td>\n",
       "      <td>...</td>\n",
       "      <td>...</td>\n",
       "      <td>...</td>\n",
       "      <td>...</td>\n",
       "    </tr>\n",
       "    <tr>\n",
       "      <th>19232</th>\n",
       "      <td>45798355</td>\n",
       "      <td>8467</td>\n",
       "      <td>-</td>\n",
       "      <td>36</td>\n",
       "      <td>CLK 200</td>\n",
       "      <td>1999</td>\n",
       "      <td>Coupe</td>\n",
       "      <td>1</td>\n",
       "      <td>0</td>\n",
       "      <td>300000 km</td>\n",
       "      <td>4</td>\n",
       "      <td>1</td>\n",
       "      <td>Rear</td>\n",
       "      <td>02-Mar</td>\n",
       "      <td>Left wheel</td>\n",
       "      <td>Silver</td>\n",
       "      <td>5</td>\n",
       "    </tr>\n",
       "    <tr>\n",
       "      <th>19233</th>\n",
       "      <td>45778856</td>\n",
       "      <td>15681</td>\n",
       "      <td>831</td>\n",
       "      <td>23</td>\n",
       "      <td>Sonata</td>\n",
       "      <td>2011</td>\n",
       "      <td>Sedan</td>\n",
       "      <td>1</td>\n",
       "      <td>5</td>\n",
       "      <td>161600 km</td>\n",
       "      <td>4</td>\n",
       "      <td>2</td>\n",
       "      <td>Front</td>\n",
       "      <td>04-May</td>\n",
       "      <td>Left wheel</td>\n",
       "      <td>Red</td>\n",
       "      <td>8</td>\n",
       "    </tr>\n",
       "    <tr>\n",
       "      <th>19234</th>\n",
       "      <td>45804997</td>\n",
       "      <td>26108</td>\n",
       "      <td>836</td>\n",
       "      <td>23</td>\n",
       "      <td>Tucson</td>\n",
       "      <td>2010</td>\n",
       "      <td>Jeep</td>\n",
       "      <td>1</td>\n",
       "      <td>1</td>\n",
       "      <td>116365 km</td>\n",
       "      <td>4</td>\n",
       "      <td>0</td>\n",
       "      <td>Front</td>\n",
       "      <td>04-May</td>\n",
       "      <td>Left wheel</td>\n",
       "      <td>Grey</td>\n",
       "      <td>4</td>\n",
       "    </tr>\n",
       "    <tr>\n",
       "      <th>19235</th>\n",
       "      <td>45793526</td>\n",
       "      <td>5331</td>\n",
       "      <td>1288</td>\n",
       "      <td>8</td>\n",
       "      <td>Captiva</td>\n",
       "      <td>2007</td>\n",
       "      <td>Jeep</td>\n",
       "      <td>1</td>\n",
       "      <td>1</td>\n",
       "      <td>51258 km</td>\n",
       "      <td>4</td>\n",
       "      <td>0</td>\n",
       "      <td>Front</td>\n",
       "      <td>04-May</td>\n",
       "      <td>Left wheel</td>\n",
       "      <td>Black</td>\n",
       "      <td>4</td>\n",
       "    </tr>\n",
       "    <tr>\n",
       "      <th>19236</th>\n",
       "      <td>45813273</td>\n",
       "      <td>470</td>\n",
       "      <td>753</td>\n",
       "      <td>23</td>\n",
       "      <td>Sonata</td>\n",
       "      <td>2012</td>\n",
       "      <td>Sedan</td>\n",
       "      <td>1</td>\n",
       "      <td>2</td>\n",
       "      <td>186923 km</td>\n",
       "      <td>4</td>\n",
       "      <td>0</td>\n",
       "      <td>Front</td>\n",
       "      <td>04-May</td>\n",
       "      <td>Left wheel</td>\n",
       "      <td>White</td>\n",
       "      <td>12</td>\n",
       "    </tr>\n",
       "  </tbody>\n",
       "</table>\n",
       "<p>19237 rows × 17 columns</p>\n",
       "</div>\n",
       "      <button class=\"colab-df-convert\" onclick=\"convertToInteractive('df-a4727b95-cad2-4ccf-bc2c-1688e17a4d48')\"\n",
       "              title=\"Convert this dataframe to an interactive table.\"\n",
       "              style=\"display:none;\">\n",
       "        \n",
       "  <svg xmlns=\"http://www.w3.org/2000/svg\" height=\"24px\"viewBox=\"0 0 24 24\"\n",
       "       width=\"24px\">\n",
       "    <path d=\"M0 0h24v24H0V0z\" fill=\"none\"/>\n",
       "    <path d=\"M18.56 5.44l.94 2.06.94-2.06 2.06-.94-2.06-.94-.94-2.06-.94 2.06-2.06.94zm-11 1L8.5 8.5l.94-2.06 2.06-.94-2.06-.94L8.5 2.5l-.94 2.06-2.06.94zm10 10l.94 2.06.94-2.06 2.06-.94-2.06-.94-.94-2.06-.94 2.06-2.06.94z\"/><path d=\"M17.41 7.96l-1.37-1.37c-.4-.4-.92-.59-1.43-.59-.52 0-1.04.2-1.43.59L10.3 9.45l-7.72 7.72c-.78.78-.78 2.05 0 2.83L4 21.41c.39.39.9.59 1.41.59.51 0 1.02-.2 1.41-.59l7.78-7.78 2.81-2.81c.8-.78.8-2.07 0-2.86zM5.41 20L4 18.59l7.72-7.72 1.47 1.35L5.41 20z\"/>\n",
       "  </svg>\n",
       "      </button>\n",
       "      \n",
       "  <style>\n",
       "    .colab-df-container {\n",
       "      display:flex;\n",
       "      flex-wrap:wrap;\n",
       "      gap: 12px;\n",
       "    }\n",
       "\n",
       "    .colab-df-convert {\n",
       "      background-color: #E8F0FE;\n",
       "      border: none;\n",
       "      border-radius: 50%;\n",
       "      cursor: pointer;\n",
       "      display: none;\n",
       "      fill: #1967D2;\n",
       "      height: 32px;\n",
       "      padding: 0 0 0 0;\n",
       "      width: 32px;\n",
       "    }\n",
       "\n",
       "    .colab-df-convert:hover {\n",
       "      background-color: #E2EBFA;\n",
       "      box-shadow: 0px 1px 2px rgba(60, 64, 67, 0.3), 0px 1px 3px 1px rgba(60, 64, 67, 0.15);\n",
       "      fill: #174EA6;\n",
       "    }\n",
       "\n",
       "    [theme=dark] .colab-df-convert {\n",
       "      background-color: #3B4455;\n",
       "      fill: #D2E3FC;\n",
       "    }\n",
       "\n",
       "    [theme=dark] .colab-df-convert:hover {\n",
       "      background-color: #434B5C;\n",
       "      box-shadow: 0px 1px 3px 1px rgba(0, 0, 0, 0.15);\n",
       "      filter: drop-shadow(0px 1px 2px rgba(0, 0, 0, 0.3));\n",
       "      fill: #FFFFFF;\n",
       "    }\n",
       "  </style>\n",
       "\n",
       "      <script>\n",
       "        const buttonEl =\n",
       "          document.querySelector('#df-a4727b95-cad2-4ccf-bc2c-1688e17a4d48 button.colab-df-convert');\n",
       "        buttonEl.style.display =\n",
       "          google.colab.kernel.accessAllowed ? 'block' : 'none';\n",
       "\n",
       "        async function convertToInteractive(key) {\n",
       "          const element = document.querySelector('#df-a4727b95-cad2-4ccf-bc2c-1688e17a4d48');\n",
       "          const dataTable =\n",
       "            await google.colab.kernel.invokeFunction('convertToInteractive',\n",
       "                                                     [key], {});\n",
       "          if (!dataTable) return;\n",
       "\n",
       "          const docLinkHtml = 'Like what you see? Visit the ' +\n",
       "            '<a target=\"_blank\" href=https://colab.research.google.com/notebooks/data_table.ipynb>data table notebook</a>'\n",
       "            + ' to learn more about interactive tables.';\n",
       "          element.innerHTML = '';\n",
       "          dataTable['output_type'] = 'display_data';\n",
       "          await google.colab.output.renderOutput(dataTable, element);\n",
       "          const docLink = document.createElement('div');\n",
       "          docLink.innerHTML = docLinkHtml;\n",
       "          element.appendChild(docLink);\n",
       "        }\n",
       "      </script>\n",
       "    </div>\n",
       "  </div>\n",
       "  "
      ],
      "text/plain": [
       "             ID  Price  Levy  Manufacturer    Model  Prod. year   Category  \\\n",
       "0      45654403  13328  1399            32   RX 450        2010       Jeep   \n",
       "1      44731507  16621  1018             8  Equinox        2011       Jeep   \n",
       "2      45774419   8467     -            21      FIT        2006  Hatchback   \n",
       "3      45769185   3607   862            16   Escape        2011       Jeep   \n",
       "4      45809263  11726   446            21      FIT        2014  Hatchback   \n",
       "...         ...    ...   ...           ...      ...         ...        ...   \n",
       "19232  45798355   8467     -            36  CLK 200        1999      Coupe   \n",
       "19233  45778856  15681   831            23   Sonata        2011      Sedan   \n",
       "19234  45804997  26108   836            23   Tucson        2010       Jeep   \n",
       "19235  45793526   5331  1288             8  Captiva        2007       Jeep   \n",
       "19236  45813273    470   753            23   Sonata        2012      Sedan   \n",
       "\n",
       "       Leather interior  Fuel type    Mileage  Cylinders  Gear box type  \\\n",
       "0                     1          2  186005 km          6              0   \n",
       "1                     0          5  192000 km          6              2   \n",
       "2                     0          5  200000 km          4              3   \n",
       "3                     1          2  168966 km          4              0   \n",
       "4                     1          5   91901 km          4              0   \n",
       "...                 ...        ...        ...        ...            ...   \n",
       "19232                 1          0  300000 km          4              1   \n",
       "19233                 1          5  161600 km          4              2   \n",
       "19234                 1          1  116365 km          4              0   \n",
       "19235                 1          1   51258 km          4              0   \n",
       "19236                 1          2  186923 km          4              0   \n",
       "\n",
       "      Drive wheels   Doors             Wheel   Color  Airbags  \n",
       "0              4x4  04-May        Left wheel  Silver       12  \n",
       "1              4x4  04-May        Left wheel   Black        8  \n",
       "2            Front  04-May  Right-hand drive   Black        2  \n",
       "3              4x4  04-May        Left wheel   White        0  \n",
       "4            Front  04-May        Left wheel  Silver        4  \n",
       "...            ...     ...               ...     ...      ...  \n",
       "19232         Rear  02-Mar        Left wheel  Silver        5  \n",
       "19233        Front  04-May        Left wheel     Red        8  \n",
       "19234        Front  04-May        Left wheel    Grey        4  \n",
       "19235        Front  04-May        Left wheel   Black        4  \n",
       "19236        Front  04-May        Left wheel   White       12  \n",
       "\n",
       "[19237 rows x 17 columns]"
      ]
     },
     "execution_count": 38,
     "metadata": {},
     "output_type": "execute_result"
    }
   ],
   "source": [
    "#data.drop(['Engine volume'],axis=1)"
   ]
  },
  {
   "cell_type": "code",
   "execution_count": null,
   "id": "7c1b8490",
   "metadata": {
    "colab": {
     "base_uri": "https://localhost:8080/"
    },
    "execution": {
     "iopub.execute_input": "2022-07-11T16:04:38.110219Z",
     "iopub.status.busy": "2022-07-11T16:04:38.109812Z",
     "iopub.status.idle": "2022-07-11T16:04:38.140825Z",
     "shell.execute_reply": "2022-07-11T16:04:38.139704Z"
    },
    "executionInfo": {
     "elapsed": 572,
     "status": "ok",
     "timestamp": 1658748210604,
     "user": {
      "displayName": "pallavi panibhate",
      "userId": "11059935446571644621"
     },
     "user_tz": -330
    },
    "id": "7c1b8490",
    "outputId": "05c5cd3e-81c4-49b5-b243-2396fbcb1cea",
    "papermill": {
     "duration": 0.04726,
     "end_time": "2022-07-11T16:04:38.143137",
     "exception": false,
     "start_time": "2022-07-11T16:04:38.095877",
     "status": "completed"
    },
    "tags": []
   },
   "outputs": [
    {
     "data": {
      "text/plain": [
       "0        186005 km\n",
       "1        192000 km\n",
       "2        200000 km\n",
       "3        168966 km\n",
       "4         91901 km\n",
       "           ...    \n",
       "19232    300000 km\n",
       "19233    161600 km\n",
       "19234    116365 km\n",
       "19235     51258 km\n",
       "19236    186923 km\n",
       "Name: Mileage, Length: 19237, dtype: object"
      ]
     },
     "execution_count": 39,
     "metadata": {},
     "output_type": "execute_result"
    }
   ],
   "source": [
    "#data['Mileaga']=data['Mileage'].str.replace('km',' ')\n",
    "#data['Mileage']"
   ]
  },
  {
   "cell_type": "code",
   "execution_count": null,
   "id": "pU7eoT-9uGAw",
   "metadata": {
    "colab": {
     "base_uri": "https://localhost:8080/"
    },
    "executionInfo": {
     "elapsed": 130370,
     "status": "ok",
     "timestamp": 1658762614090,
     "user": {
      "displayName": "pallavi panibhate",
      "userId": "11059935446571644621"
     },
     "user_tz": -330
    },
    "id": "pU7eoT-9uGAw",
    "outputId": "c59b6512-c84a-4679-a9a8-709611c9970c"
   },
   "outputs": [
    {
     "name": "stdout",
     "output_type": "stream",
     "text": [
      "Mounted at /content/drive\n"
     ]
    }
   ],
   "source": [
    "from google.colab import drive      \n",
    "drive.mount('/content/drive')"
   ]
  },
  {
   "cell_type": "code",
   "execution_count": null,
   "id": "feda3498",
   "metadata": {
    "execution": {
     "iopub.execute_input": "2022-07-11T16:04:38.170297Z",
     "iopub.status.busy": "2022-07-11T16:04:38.169870Z",
     "iopub.status.idle": "2022-07-11T16:04:38.180335Z",
     "shell.execute_reply": "2022-07-11T16:04:38.179006Z"
    },
    "id": "feda3498",
    "papermill": {
     "duration": 0.027354,
     "end_time": "2022-07-11T16:04:38.183008",
     "exception": false,
     "start_time": "2022-07-11T16:04:38.155654",
     "status": "completed"
    },
    "tags": []
   },
   "outputs": [],
   "source": [
    "#feature_data=data.iloc[:,3:13]\n",
    "#feature_data.head()\n",
    "#feature_data=feature_data.drop('Engine volume',axis=1)"
   ]
  },
  {
   "cell_type": "code",
   "execution_count": 35,
   "id": "38de6e2d",
   "metadata": {
    "colab": {
     "base_uri": "https://localhost:8080/"
    },
    "executionInfo": {
     "elapsed": 468,
     "status": "ok",
     "timestamp": 1658818639596,
     "user": {
      "displayName": "pallavi panibhate",
      "userId": "11059935446571644621"
     },
     "user_tz": -330
    },
    "id": "38de6e2d",
    "outputId": "13c75002-4444-4efe-fd3c-4aa18ac8298a",
    "papermill": {
     "duration": 0.033719,
     "end_time": "2022-07-11T16:04:38.229399",
     "exception": false,
     "start_time": "2022-07-11T16:04:38.195680",
     "status": "completed"
    },
    "tags": []
   },
   "outputs": [
    {
     "name": "stdout",
     "output_type": "stream",
     "text": [
      "<class 'pandas.core.frame.DataFrame'>\n",
      "RangeIndex: 19237 entries, 0 to 19236\n",
      "Data columns (total 5 columns):\n",
      " #   Column         Non-Null Count  Dtype  \n",
      "---  ------         --------------  -----  \n",
      " 0   Manufacturer   19237 non-null  int64  \n",
      " 1   Airbags        19237 non-null  int64  \n",
      " 2   Cylinders      19237 non-null  float64\n",
      " 3   Gear box type  19237 non-null  int64  \n",
      " 4   Fuel type      19237 non-null  int64  \n",
      "dtypes: float64(1), int64(4)\n",
      "memory usage: 751.6 KB\n"
     ]
    }
   ],
   "source": [
    "feature_data.info()"
   ]
  },
  {
   "cell_type": "code",
   "execution_count": null,
   "id": "4c5e9805",
   "metadata": {
    "execution": {
     "iopub.execute_input": "2022-07-11T16:04:38.257455Z",
     "iopub.status.busy": "2022-07-11T16:04:38.257040Z",
     "iopub.status.idle": "2022-07-11T16:04:38.283103Z",
     "shell.execute_reply": "2022-07-11T16:04:38.282162Z"
    },
    "id": "4c5e9805",
    "papermill": {
     "duration": 0.042793,
     "end_time": "2022-07-11T16:04:38.285583",
     "exception": false,
     "start_time": "2022-07-11T16:04:38.242790",
     "status": "completed"
    },
    "tags": []
   },
   "outputs": [],
   "source": [
    "#feature_data['Mileage']=feature_data['Mileage'].str.replace(\"km\",\"\")"
   ]
  },
  {
   "cell_type": "code",
   "execution_count": 36,
   "id": "1f798476",
   "metadata": {
    "id": "1f798476",
    "papermill": {
     "duration": 0.023179,
     "end_time": "2022-07-11T16:04:38.321628",
     "exception": false,
     "start_time": "2022-07-11T16:04:38.298449",
     "status": "completed"
    },
    "tags": []
   },
   "outputs": [],
   "source": [
    "X=feature_data\n",
    "Y=data['Price']\n",
    "from sklearn.model_selection import train_test_split\n",
    "from sklearn.linear_model import LogisticRegression\n",
    "from sklearn import metrics\n",
    "from sklearn.metrics import accuracy_score\n",
    "from sklearn import svm\n",
    "#X.info()"
   ]
  },
  {
   "cell_type": "code",
   "execution_count": 37,
   "id": "41136fac",
   "metadata": {
    "colab": {
     "base_uri": "https://localhost:8080/"
    },
    "executionInfo": {
     "elapsed": 17,
     "status": "ok",
     "timestamp": 1658846746163,
     "user": {
      "displayName": "pallavi panibhate",
      "userId": "11059935446571644621"
     },
     "user_tz": -330
    },
    "id": "41136fac",
    "outputId": "f97c1ea5-1365-4b00-8061-6d8b1f80652a",
    "papermill": {
     "duration": 0.028834,
     "end_time": "2022-07-11T16:04:38.363155",
     "exception": false,
     "start_time": "2022-07-11T16:04:38.334321",
     "status": "completed"
    },
    "tags": []
   },
   "outputs": [
    {
     "name": "stdout",
     "output_type": "stream",
     "text": [
      "(15389, 5) (15389,) (3848, 5) (3848,)\n"
     ]
    }
   ],
   "source": [
    "x_train,x_test,y_train,y_test=train_test_split(X,Y,random_state=0,test_size=0.2)\n",
    "print(x_train.shape,y_train.shape,x_test.shape,y_test.shape)"
   ]
  },
  {
   "cell_type": "code",
   "execution_count": 38,
   "id": "su7FkbHcKxrm",
   "metadata": {
    "colab": {
     "base_uri": "https://localhost:8080/"
    },
    "executionInfo": {
     "elapsed": 205725,
     "status": "ok",
     "timestamp": 1658846953750,
     "user": {
      "displayName": "pallavi panibhate",
      "userId": "11059935446571644621"
     },
     "user_tz": -330
    },
    "id": "su7FkbHcKxrm",
    "outputId": "1924f0f8-5277-424a-ce93-df85500e5cae"
   },
   "outputs": [
    {
     "name": "stderr",
     "output_type": "stream",
     "text": [
      "/usr/local/lib/python3.7/site-packages/sklearn/linear_model/_logistic.py:818: ConvergenceWarning: lbfgs failed to converge (status=1):\n",
      "STOP: TOTAL NO. of ITERATIONS REACHED LIMIT.\n",
      "\n",
      "Increase the number of iterations (max_iter) or scale the data as shown in:\n",
      "    https://scikit-learn.org/stable/modules/preprocessing.html\n",
      "Please also refer to the documentation for alternative solver options:\n",
      "    https://scikit-learn.org/stable/modules/linear_model.html#logistic-regression\n",
      "  extra_warning_msg=_LOGISTIC_SOLVER_CONVERGENCE_MSG,\n"
     ]
    },
    {
     "data": {
      "text/plain": [
       "LogisticRegression()"
      ]
     },
     "execution_count": 38,
     "metadata": {},
     "output_type": "execute_result"
    }
   ],
   "source": [
    "logic=LogisticRegression()\n",
    "logic.fit(x_train,y_train)"
   ]
  },
  {
   "cell_type": "code",
   "execution_count": 53,
   "id": "kBqsdgQ1DapT",
   "metadata": {
    "id": "kBqsdgQ1DapT"
   },
   "outputs": [],
   "source": [
    "y_pred=logic.predict(x_test)"
   ]
  },
  {
   "cell_type": "code",
   "execution_count": null,
   "id": "ffzKkYdQTAw6",
   "metadata": {
    "id": "ffzKkYdQTAw6"
   },
   "outputs": [],
   "source": [
    "ConfusionMatrixDisplay.from_estimator(logic, x_test, y_test)\n",
    "plt.show()"
   ]
  },
  {
   "cell_type": "code",
   "execution_count": 54,
   "id": "G7mGRe7qDpU4",
   "metadata": {
    "colab": {
     "base_uri": "https://localhost:8080/"
    },
    "executionInfo": {
     "elapsed": 678,
     "status": "ok",
     "timestamp": 1658847573433,
     "user": {
      "displayName": "pallavi panibhate",
      "userId": "11059935446571644621"
     },
     "user_tz": -330
    },
    "id": "G7mGRe7qDpU4",
    "outputId": "39f86a30-54c6-478b-c56e-fc9cc7157282"
   },
   "outputs": [
    {
     "name": "stdout",
     "output_type": "stream",
     "text": [
      "accuracy score= 0.02312889812889813\n"
     ]
    }
   ],
   "source": [
    "print(\"accuracy score=\",metrics.accuracy_score(y_test,y_pred))"
   ]
  },
  {
   "cell_type": "code",
   "execution_count": null,
   "id": "hGTywSqqEUk2",
   "metadata": {
    "colab": {
     "base_uri": "https://localhost:8080/"
    },
    "executionInfo": {
     "elapsed": 403,
     "status": "ok",
     "timestamp": 1658847576481,
     "user": {
      "displayName": "pallavi panibhate",
      "userId": "11059935446571644621"
     },
     "user_tz": -330
    },
    "id": "hGTywSqqEUk2",
    "outputId": "a17aeb73-54b9-4825-87ae-8d27a6513e8d"
   },
   "outputs": [],
   "source": [
    "print(\"Pression is:\",metrics.precision_score(y_test,y_pred,average=\"micro\"))"
   ]
  },
  {
   "cell_type": "code",
   "execution_count": null,
   "id": "ee03d5dc",
   "metadata": {
    "colab": {
     "base_uri": "https://localhost:8080/"
    },
    "executionInfo": {
     "elapsed": 233277,
     "status": "ok",
     "timestamp": 1658847814834,
     "user": {
      "displayName": "pallavi panibhate",
      "userId": "11059935446571644621"
     },
     "user_tz": -330
    },
    "id": "ee03d5dc",
    "outputId": "db5d919a-f169-43f9-f54c-11bf38f3120d",
    "papermill": {
     "duration": 0.081857,
     "end_time": "2022-07-11T16:04:38.458435",
     "exception": false,
     "start_time": "2022-07-11T16:04:38.376578",
     "status": "completed"
    },
    "tags": []
   },
   "outputs": [],
   "source": [
    "model=svm.SVC(kernel='linear')\n",
    "model.fit(x_train,y_train)"
   ]
  },
  {
   "cell_type": "code",
   "execution_count": null,
   "id": "33026318",
   "metadata": {
    "id": "33026318",
    "papermill": {
     "duration": 0.149305,
     "end_time": "2022-07-11T16:04:38.621527",
     "exception": true,
     "start_time": "2022-07-11T16:04:38.472222",
     "status": "failed"
    },
    "tags": []
   },
   "outputs": [],
   "source": [
    "y_pred=model.predict(x_test)"
   ]
  },
  {
   "cell_type": "code",
   "execution_count": null,
   "id": "a8f73272",
   "metadata": {
    "colab": {
     "base_uri": "https://localhost:8080/"
    },
    "executionInfo": {
     "elapsed": 425,
     "status": "ok",
     "timestamp": 1658683165706,
     "user": {
      "displayName": "pallavi panibhate",
      "userId": "11059935446571644621"
     },
     "user_tz": -330
    },
    "id": "a8f73272",
    "outputId": "ff7b3626-6543-4c4b-8f2b-39a48c41117b",
    "papermill": {
     "duration": null,
     "end_time": null,
     "exception": null,
     "start_time": null,
     "status": "pending"
    },
    "tags": []
   },
   "outputs": [
    {
     "name": "stdout",
     "output_type": "stream",
     "text": [
      "0.034563409563409565\n"
     ]
    }
   ],
   "source": []
  },
  {
   "cell_type": "code",
   "execution_count": null,
   "id": "24a12944",
   "metadata": {
    "colab": {
     "base_uri": "https://localhost:8080/"
    },
    "executionInfo": {
     "elapsed": 115,
     "status": "ok",
     "timestamp": 1658848192360,
     "user": {
      "displayName": "pallavi panibhate",
      "userId": "11059935446571644621"
     },
     "user_tz": -330
    },
    "id": "24a12944",
    "outputId": "1b170f4c-1b52-4508-e7b4-8d75e4f8e020",
    "papermill": {
     "duration": null,
     "end_time": null,
     "exception": null,
     "start_time": null,
     "status": "pending"
    },
    "tags": []
   },
   "outputs": [
    {
     "name": "stdout",
     "output_type": "stream",
     "text": [
      "Pression is: 0.034563409563409565\n"
     ]
    }
   ],
   "source": [
    "print(\"Pression is:\",metrics.precision_score(y_test,y_pred,average=\"micro\"))"
   ]
  },
  {
   "cell_type": "code",
   "execution_count": null,
   "id": "gyzxHEzVPnOA",
   "metadata": {
    "id": "gyzxHEzVPnOA"
   },
   "outputs": [],
   "source": []
  },
  {
   "cell_type": "code",
   "execution_count": 28,
   "id": "c5b40f63",
   "metadata": {
    "colab": {
     "base_uri": "https://localhost:8080/"
    },
    "executionInfo": {
     "elapsed": 437,
     "status": "ok",
     "timestamp": 1658849597599,
     "user": {
      "displayName": "pallavi panibhate",
      "userId": "11059935446571644621"
     },
     "user_tz": -330
    },
    "id": "c5b40f63",
    "outputId": "d7ee91f9-6c1d-4bcc-f5a7-a923749e96ea",
    "papermill": {
     "duration": null,
     "end_time": null,
     "exception": null,
     "start_time": null,
     "status": "pending"
    },
    "tags": []
   },
   "outputs": [
    {
     "name": "stdout",
     "output_type": "stream",
     "text": [
      "recall is: 0.034563409563409565\n"
     ]
    }
   ],
   "source": [
    "print(\"recall is:\",metrics.recall_score(y_test,y_pred,average=\"micro\"))"
   ]
  },
  {
   "cell_type": "code",
   "execution_count": 29,
   "id": "81NgEUE5RCVW",
   "metadata": {
    "executionInfo": {
     "elapsed": 419,
     "status": "ok",
     "timestamp": 1658849600622,
     "user": {
      "displayName": "pallavi panibhate",
      "userId": "11059935446571644621"
     },
     "user_tz": -330
    },
    "id": "81NgEUE5RCVW"
   },
   "outputs": [],
   "source": [
    "from sklearn.ensemble import RandomForestClassifier"
   ]
  },
  {
   "cell_type": "code",
   "execution_count": 30,
   "id": "1LZdhx_pRCZB",
   "metadata": {
    "colab": {
     "base_uri": "https://localhost:8080/"
    },
    "executionInfo": {
     "elapsed": 2296,
     "status": "ok",
     "timestamp": 1658849605685,
     "user": {
      "displayName": "pallavi panibhate",
      "userId": "11059935446571644621"
     },
     "user_tz": -330
    },
    "id": "1LZdhx_pRCZB",
    "outputId": "0a69cf56-85b5-4847-89dc-d51aadd19a4c"
   },
   "outputs": [
    {
     "data": {
      "text/plain": [
       "RandomForestClassifier(criterion='entropy', n_estimators=10, random_state=5)"
      ]
     },
     "execution_count": 30,
     "metadata": {},
     "output_type": "execute_result"
    }
   ],
   "source": [
    "classifier = RandomForestClassifier(n_estimators = 10, criterion = 'entropy', random_state = 5)\n",
    "classifier.fit(x_train, y_train)"
   ]
  },
  {
   "cell_type": "code",
   "execution_count": 31,
   "id": "le31hlReRWLo",
   "metadata": {
    "colab": {
     "base_uri": "https://localhost:8080/"
    },
    "executionInfo": {
     "elapsed": 4252,
     "status": "ok",
     "timestamp": 1658849611630,
     "user": {
      "displayName": "pallavi panibhate",
      "userId": "11059935446571644621"
     },
     "user_tz": -330
    },
    "id": "le31hlReRWLo",
    "outputId": "1fd2772e-3c80-45c0-da0a-9ca5882862a7"
   },
   "outputs": [
    {
     "name": "stdout",
     "output_type": "stream",
     "text": [
      "[12570 27284 16308 ...   549 15681 10663]\n",
      "197\n"
     ]
    }
   ],
   "source": [
    "y_pred=classifier.predict(x_test)\n",
    "print(y_pred)\n",
    "\n",
    "res=classifier = RandomForestClassifier(n_estimators = 10, criterion = 'entropy', random_state = 42)\n",
    "classifier.fit(x_train, y_train)\n",
    "\n",
    "\n",
    "\n",
    "\n",
    "result=accuracy_score(y_test,y_pred,normalize=False)\n",
    "print(result)\n",
    "\n",
    "\n"
   ]
  },
  {
   "cell_type": "code",
   "execution_count": 32,
   "id": "DsmUKI0WRUST",
   "metadata": {
    "colab": {
     "base_uri": "https://localhost:8080/"
    },
    "executionInfo": {
     "elapsed": 485,
     "status": "ok",
     "timestamp": 1658849615814,
     "user": {
      "displayName": "pallavi panibhate",
      "userId": "11059935446571644621"
     },
     "user_tz": -330
    },
    "id": "DsmUKI0WRUST",
    "outputId": "31b9c0a6-1f78-434d-f1ab-6dc0fd415dec"
   },
   "outputs": [
    {
     "name": "stdout",
     "output_type": "stream",
     "text": [
      "Pression is: 0.0511954261954262\n"
     ]
    }
   ],
   "source": [
    "print(\"Pression is:\",metrics.precision_score(y_test,y_pred,average=\"micro\"))"
   ]
  },
  {
   "cell_type": "code",
   "execution_count": 33,
   "id": "XVaQjsZ5RUcO",
   "metadata": {
    "colab": {
     "base_uri": "https://localhost:8080/"
    },
    "executionInfo": {
     "elapsed": 408,
     "status": "ok",
     "timestamp": 1658849618484,
     "user": {
      "displayName": "pallavi panibhate",
      "userId": "11059935446571644621"
     },
     "user_tz": -330
    },
    "id": "XVaQjsZ5RUcO",
    "outputId": "3abe5761-4b6b-49b2-b68b-1f482684b915"
   },
   "outputs": [
    {
     "name": "stdout",
     "output_type": "stream",
     "text": [
      "Pression is: 0.0511954261954262\n"
     ]
    }
   ],
   "source": [
    "print(\"Pression is:\",metrics.recall_score(y_test,y_pred,average=\"micro\"))"
   ]
  },
  {
   "cell_type": "code",
   "execution_count": 2,
   "id": "C6O064yiUdUD",
   "metadata": {
    "id": "C6O064yiUdUD"
   },
   "outputs": [
    {
     "ename": "NameError",
     "evalue": "name 'res' is not defined",
     "output_type": "error",
     "traceback": [
      "\u001b[0;31m---------------------------------------------------------------------------\u001b[0m",
      "\u001b[0;31mNameError\u001b[0m                                 Traceback (most recent call last)",
      "\u001b[0;32m<ipython-input-2-026af2ed663b>\u001b[0m in \u001b[0;36m<module>\u001b[0;34m\u001b[0m\n\u001b[1;32m      1\u001b[0m \u001b[0;32mimport\u001b[0m \u001b[0mpickle\u001b[0m\u001b[0;34m\u001b[0m\u001b[0;34m\u001b[0m\u001b[0m\n\u001b[1;32m      2\u001b[0m \u001b[0mmodelsave\u001b[0m\u001b[0;34m=\u001b[0m\u001b[0;34m'car_price_prediction.csv'\u001b[0m\u001b[0;34m\u001b[0m\u001b[0;34m\u001b[0m\u001b[0m\n\u001b[0;32m----> 3\u001b[0;31m \u001b[0mpickle\u001b[0m\u001b[0;34m.\u001b[0m\u001b[0mdump\u001b[0m\u001b[0;34m(\u001b[0m\u001b[0mres\u001b[0m\u001b[0;34m,\u001b[0m\u001b[0mopen\u001b[0m\u001b[0;34m(\u001b[0m\u001b[0mmodelsave\u001b[0m\u001b[0;34m,\u001b[0m\u001b[0;34m'wb'\u001b[0m\u001b[0;34m)\u001b[0m\u001b[0;34m)\u001b[0m\u001b[0;34m\u001b[0m\u001b[0;34m\u001b[0m\u001b[0m\n\u001b[0m",
      "\u001b[0;31mNameError\u001b[0m: name 'res' is not defined"
     ]
    }
   ],
   "source": [
    "import pickle\n",
    "modelsave='car_price_prediction.csv'\n",
    "pickle.dump(res,open(modelsave,'wb'))"
   ]
  },
  {
   "cell_type": "code",
   "execution_count": 21,
   "id": "3f418c1a-6796-48ca-acda-29aa34024a3c",
   "metadata": {
    "colab": {
     "base_uri": "https://localhost:8080/"
    },
    "executionInfo": {
     "elapsed": 415,
     "status": "ok",
     "timestamp": 1658559654699,
     "user": {
      "displayName": "pallavi panibhate",
      "userId": "11059935446571644621"
     },
     "user_tz": -330
    },
    "id": "D6XLjZGn1Ama",
    "outputId": "7decd9d4-258a-42b7-dfc2-76178f637dda"
   },
   "outputs": [
    {
     "name": "stdout",
     "output_type": "stream",
     "text": [
      "0.885318617534324\n"
     ]
    }
   ],
   "source": [
    "# calling the saved model\n",
    "loaded_model = pickle.load(open(filename, 'rb'))\n",
    "result = loaded_model.score(x_test, y_test)\n",
    "print(result)"
   ]
  }
 ],
 "metadata": {
  "colab": {
   "collapsed_sections": [],
   "name": "car-price-prediction.ipynb",
   "provenance": []
  },
  "kernelspec": {
   "display_name": "Python 3",
   "language": "python",
   "name": "python3"
  },
  "language_info": {
   "codemirror_mode": {
    "name": "ipython",
    "version": 3
   },
   "file_extension": ".py",
   "mimetype": "text/x-python",
   "name": "python",
   "nbconvert_exporter": "python",
   "pygments_lexer": "ipython3",
   "version": "3.7.6"
  },
  "papermill": {
   "default_parameters": {},
   "duration": 15.78728,
   "end_time": "2022-07-11T16:04:39.458060",
   "environment_variables": {},
   "exception": true,
   "input_path": "__notebook__.ipynb",
   "output_path": "__notebook__.ipynb",
   "parameters": {},
   "start_time": "2022-07-11T16:04:23.670780",
   "version": "2.3.4"
  }
 },
 "nbformat": 4,
 "nbformat_minor": 5
}
